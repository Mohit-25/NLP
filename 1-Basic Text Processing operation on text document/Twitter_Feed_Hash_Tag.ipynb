{
  "nbformat": 4,
  "nbformat_minor": 0,
  "metadata": {
    "colab": {
      "name": "Twitter Feed Hash Tag.ipynb",
      "provenance": []
    },
    "kernelspec": {
      "name": "python3",
      "display_name": "Python 3"
    },
    "language_info": {
      "name": "python"
    }
  },
  "cells": [
    {
      "cell_type": "code",
      "metadata": {
        "id": "tcqRb70FApVb"
      },
      "source": [
        "!pip install -q snscrape==0.3.4\n",
        "\n"
      ],
      "execution_count": 1,
      "outputs": []
    },
    {
      "cell_type": "code",
      "metadata": {
        "id": "GDy8DkDOA37a"
      },
      "source": [
        "import os\n",
        "import pandas as pd\n",
        "from datetime import date"
      ],
      "execution_count": 2,
      "outputs": []
    },
    {
      "cell_type": "code",
      "metadata": {
        "id": "xnPeF8mBA93N"
      },
      "source": [
        "\n",
        "today = date.today()\n",
        "end_date = today"
      ],
      "execution_count": 3,
      "outputs": []
    },
    {
      "cell_type": "code",
      "metadata": {
        "id": "SiYw_7kSBB2C"
      },
      "source": [
        "search_term = 'imjadeja'\n",
        "from_date = '2019-03-01'"
      ],
      "execution_count": 4,
      "outputs": []
    },
    {
      "cell_type": "code",
      "metadata": {
        "colab": {
          "base_uri": "https://localhost:8080/"
        },
        "id": "R1SdRhfQBxbs",
        "outputId": "0404b063-09b7-4f4d-9784-33ca73dea46b"
      },
      "source": [
        "os.system(f\"snscrape --since {from_date} twitter-search '{search_term} until:{end_date}' > result-tweets.txt\")\n",
        "if os.stat(\"result-tweets.txt\").st_size == 0:\n",
        "  counter = 0\n",
        "else:\n",
        "  df = pd.read_csv('result-tweets.txt', names=['link'])\n",
        "  counter = df.size\n",
        "\n",
        "print('Number Of Tweets : '+ str(counter))"
      ],
      "execution_count": 5,
      "outputs": [
        {
          "output_type": "stream",
          "name": "stdout",
          "text": [
            "Number Of Tweets : 8453\n"
          ]
        }
      ]
    },
    {
      "cell_type": "code",
      "metadata": {
        "id": "_9VbHv-wCbAG"
      },
      "source": [
        "\n",
        "max_results = 150"
      ],
      "execution_count": 6,
      "outputs": []
    },
    {
      "cell_type": "code",
      "metadata": {
        "colab": {
          "base_uri": "https://localhost:8080/"
        },
        "id": "7Hk4avlTChVN",
        "outputId": "422600e3-2e53-4b28-aca5-a6e0173ed17b"
      },
      "source": [
        "extracted_tweets = \"snscrape --format '{content!r}'\"+ f\" --max-results {max_results} --since {from_date} twitter-search '{search_term} until:{end_date}' > extracted-tweets.txt\"\n",
        "os.system(extracted_tweets)\n",
        "if os.stat(\"extracted-tweets.txt\").st_size == 0:\n",
        "  print('No Tweets found')\n",
        "else:\n",
        "  df = pd.read_csv('extracted-tweets.txt', names=['content'])\n",
        "  for row in df['content'].iteritems():\n",
        "    print(row)"
      ],
      "execution_count": 7,
      "outputs": [
        {
          "output_type": "stream",
          "name": "stdout",
          "text": [
            "(0, \"'@MichaelVaughan ஒரு தீர்க்கதரிசி!\\\\n#csk won👏👏 and @imjadeja 2 Wickets and 2 Catches 👏👍👏\\\\nStill we can say Jaddu is the MOM. 👏 https://t.co/ZF2F6Dokce'\")\n",
            "(1, \"'@Bhagirath28 @imjadeja 💯'\")\n",
            "(2, \"'#CSKWin super leading from front @msdhoni great teamwork @imjadeja congratulations\\\\n@pm51266 @CKakrania @satyajgd https://t.co/GcHnxa6HJC'\")\n",
            "(3, \"'@IPL @ChennaiIPL @msdhoni @DJBravo47 @imjadeja Congratulations 👏'\")\n",
            "(4, \"'Csk won🏆💥💛\\\\n#WhistlePodu #MSDhoni #ChennaiSuperKings Always #CHAMPIONS #IPL2021Final \\\\n\\\\n💛💛💛💛💛💛💛💛💛💛💛💛💛💛💛💛💛💛💛💛YELLOVE FOREVER 💛💛💛💛💛💛💛💛💛💛💛💛💛💛💛💛💛💛💛💛💛💛💛💛\\\\n\\\\n@msdhoni @imjadeja @ImRaina The trio 🏆'\")\n",
            "(5, \"'चेन्नई सुपर किंग्स की दमदार जीत। चेन्नई ने फाइनल में कोलकाता को किया पस्त\")\n",
            "(6, \"'@ThakurSSaheb @katecross16 @imjadeja @msdhoni @ChennaiIPL https://t.co/zPpQ4Zpc6x'\")\n",
            "(7, \"'@AnilSinghvi_ @msdhoni @imjadeja @imShard @faf1307 @RuturajGaikward @ChennaiIPL @IPL Good morning sir'\")\n",
            "(8, \"'#CSK \\\\n#CSKvKKR \\\\n#IPL2021 \\\\n#WhistlePoduArmy \\\\n#Yellove \\\\n💪\\\\n@msdhoni @ChennaiIPL @IPL @BCCI @imjadeja @faf1307 @ImRaina @imShard @robbieuthappa @deepak_chahar9 https://t.co/nw3BXrnflV'\")\n",
            "(9, \"'Congrats @ChennaiIPL for the victory against @KKRiders on #IPLFinal\\\\nWhat a comeback from @msdhoni and team\\\\nWell played @faf1307 @robbieuthappa @Ruutu1331 @imShard @imjadeja @DJBravo47 \\\\nHe won many hearts @ImRaina \\\\n#ChennaiSuperKings \\\\n#Cskforever \\\\n#CSK \\\\n#WhistlePodu \\\\n#MSDhoni https://t.co/bAxpXRpHRZ'\")\n",
            "(10, \"'Csk rocks kkr shocks💥🔥🎉🎊🔊\\\\n4th cup kodtunnam ani phone chesi mari cheppad naaku @imjadeja\")\n",
            "(11, \"'@imjadeja doing Ujala advertisement\")\n",
            "(12, \"'Late to the party\")\n",
            "(13, \"'@ChennaiIPL @msdhoni @faf1307 @ImRaina @DJBravo47 @RayuduAmbati @deepak_chahar9 Josh Mo @Ruutu1331 @robbieuthappa &amp; Sir @imjadeja with Lord @imShard \\\\n\\\\nThanks guys from a diehard- for your sweat blood &amp; tears. Very fulfilling\\\\n\\\\n🦁💛 #ChennaiSuperKings #IPLFinal #ChampionSuperKings'\")\n",
            "(14, \"'@BCCI \\\\nSquad suggestions 🙂 #Indian  \\\\n@ImRo45 \\\\n@imVkohli \\\\n@klrahul11 \\\\n@surya_14kumar \\\\n@RishabhPant17 \\\\n@hardikpandya7\\\\n@imjadeja \\\\n@imShard\\\\n@chakaravarthy29 \\\\n@MdShami11 \\\\n@Jaspritbumrah93 \\\\n\\\\n@msdhoni'\")\n",
            "(15, \"'Woh Karna Chahti Grind\")\n",
            "(16, \"'@ChennaiIPL very humble request to team and management.  Pls pls retain @msdhoni\\\\n@imjadeja @faf1307 if possible #Ruturaj 💛\\\\n@srinimamaa16\\\\n #Yellove\\\\n#SuperCham21ons #SuperFans \\\\n#CSKvKKR #WhistlePodu \\\\n#IPLFinal #IPL2021 \\\\n@BCCI \\\\n#CSKvKKR #MSDhoni \\\\n#ChennaiSuperKings'\")\n",
            "(17, \"'Jaaa♾️aaadu 💛\\\\n\\\\n#SuperCham21ons\\\\n#CSKvKKR #WhistlePodu #Yellove #SirJadeja #RAVINDRAJADEJA #CSK\\\\n@imjadeja https://t.co/nQUIPJt21T'\")\n",
            "(18, \"'@MichaelVaughan @ChennaiIPL @imjadeja You were almost there missed by a margin.. Good performance by @imjadeja and obviously @ChennaiIPL  WONNNN2021 IPL'\")\n",
            "(19, \"'Propable/best playing 11 for india in T20 world cup\\\\n@ImRo45 \\\\n@klrahul11 \\\\n@imVkohli \\\\n@surya_14kumar \\\\n@RishabhPant17 \\\\n@hardikpandya7 \\\\n@imjadeja \\\\n#Varunchakravarthy \\\\n@Jaspritbumrah93 \\\\n@BhuviOfficial \\\\n@MdShami11 \\\\n#T20WorldCup #T20WorldCup2021'\")\n",
            "(20, \"'@IPL @imjadeja What an absolute superstar he is too 🤩'\")\n",
            "(21, \"'@StarSportsIndia @msdhoni @imjadeja @Russell12A @DineshKarthik MS Dhoni'\")\n",
            "(22, \"'#ChennaiSuperKings #CSKvKKR @msdhoni @IPL @DJBravo47 @imShard @ChennaiIPL #whistlepodu @BCCI @faf1307 @Ruutu1331 @imjadeja @ImRaina https://t.co/lq1cMPon6C'\")\n",
            "(23, \"'@kevp88 @ChennaiIPL @DJBravo47 @imjadeja You found it class #WhistlePodu #Cskforever 🔥🤩'\")\n",
            "(24, \"'@imjadeja  bapu to bapu se \")\n",
            "(25, \"'@katecross16 @imjadeja @msdhoni @ChennaiIPL Yeah @Sarah_Taylor30 ki dost hai kya ?'\")\n",
            "(26, \"'@DanBrennandanny @katecross16 @imjadeja @msdhoni @ChennaiIPL Won 2-1... could have been 3-1..rain saved u.. jog on..'\")\n",
            "(27, \"'@imjadeja  can become  a fantastic   football  player.'\")\n",
            "(28, \"'Congratulations team #CSK and special thanks for mr. Professor (@msdhoni) for continuing our hopes god bless for #T20WorldCup team india .\\\\n#IPLFinal\\\\n@imjadeja @faf1307 https://t.co/NNhuTc7jlX'\")\n",
            "(29, \"Ye hai Chennai Super King. Yaa Its Dad's Army definitely but now u have got the value of earned experience over the period of time from under pressure games or situations in @IPL from all those Super Kings to tackle smartly @ChennaiIPL @msdhoni @ImRaina @faf1307 @imjadeja ...🏆 https://t.co/EJJYIDKla5\")\n",
            "(30, \"'We won \")\n",
            "(31, \"'@Lalujsm @ChennaiIPL @imjadeja शेर है शेर ॥'\")\n",
            "(32, \"'@ChennaiIPL @msdhoni @faf1307  @imjadeja   COMPENSATED for last year. Thank you for giving such wonderful season. Congratulation to all #WhistlePodu'\")\n",
            "(33, \"'RIP #AviBarot \\\\n\\\\nMost shocking &amp; unbelievable\")\n",
            "(34, \"'@katecross16 @imjadeja @msdhoni @ChennaiIPL 💛💛'\")\n",
            "(35, \"'Glad to see that our THALA is smiling. Congratulations to my another family #ChennaiSuperKings for the won #IPL2021 4th times. Lots of #Yellove to our all supporting staff and players. #WhistlePodu #ThalaDhoni @ChennaiIPL @CSKFansOfficial @msdhoni @imjadeja @ImRaina https://t.co/skuAnhbY9X'\")\n",
            "(36, \"'My favourite fielder in childhood was Mohd. Kaif.Nobody fielded like him. Now after so many years\")\n",
            "(37, \"'@mank_34 @TataMotors_Cars @Ruutu1331 @imjadeja @mank_34 bhaiya see\")\n",
            "(38, \"'@katecross16 @imjadeja @msdhoni @ChennaiIPL Hope worth pulling out of the 5th test match for. You were not series winners where it really mattered'\")\n",
            "(39, \"'@SushantNMehta @imjadeja Shakib in playing XI was the biggest mistake by KKR in this pitch. I would have played with Russel or Seifert'\")\n",
            "(40, \"'@Dream11 @ChennaiIPL @msdhoni @imjadeja @faf1307 Hi @Dream11 .. I am not staying in karnataka but my pan card and bank account is from karnataka... can you help me in continue playing... as per the rule people who are currently located in karnataka is banned from playing....'\")\n",
            "(41, \"'@imjadeja @ChennaiIPL 🔥🔥🔥🔥💛💛 https://t.co/m9lXZ1SkkR'\")\n",
            "(42, \"'@IPL @ChennaiIPL @msdhoni @DJBravo47 @imjadeja @DownloaderBot'\")\n",
            "(43, \"'@ImRaina @ChennaiIPL बहुत बढ़िया खेल दिखाया चेन्नई सुपर किंग ने सर @imjadeja ने क्या गजब कैच लिए मजा आ गया \\\\n इलाका किसी का भी हो धमाका धोनी का ही होगा 💛✌💛💛\\\\n@msdhoni \\\\n @ChennaiIPL \\\\n#IPLFinal \\\\n#cskvskkr2021'\")\n",
            "(44, \"'@katecross16 @imjadeja @msdhoni @ChennaiIPL Super jaddu'\")\n",
            "(45, \"'@ChennaiIPL @imjadeja Jaddu or mahi 💛'\")\n",
            "(46, \"'Everything for only for this Man… Thank you MSD for everything…#Yellove #WhistlePodu #ChennaiSuperKings @ChennaiIPL @msdhoni @imjadeja @ImRaina @Ruutu1331 https://t.co/9Balr9rWdQ'\")\n",
            "(47, \"'This man ❤️\\\\n@msdhoni \\\\nCongratulations @ChennaiIPL @imjadeja\\\\n#MSDhoni #WhistlePodu #ChennaiSuperKings #Congratulationscsk #4thipl https://t.co/aFE1CIIpYW'\")\n",
            "(48, \"'@MichaelVaughan @imjadeja You are the only experienced cricketer who predicts most of the things right. I know you cant predict everything right but the amount of anger on CSK from the so called experienced cricketers like aakash\")\n",
            "(49, \"'Thala Dhoni about sir @imjadeja 🔥💥 https://t.co/LgdfOaQY9I'\")\n",
            "(50, \"'@imjadeja Respected Jaddu uncle I am sakchi from kolkata I am a student uncle today you have got a smart phone I belive u have many more if you could give it to me it help me to online class I have Rs 7653/ I can give you this amount please uncle'\")\n",
            "(51, \"'@ChennaiIPL @imjadeja Jhakkaaasssssss jaddu sir'\")\n",
            "(52, \"'@imjadeja Bhai Give me that mobile. You have a lot of mobiles. Give me that one mobile plss @imjadeja Bhai\\\\n\\\\n@ChennaiIPL @msdhoni https://t.co/br4XWis4Pi'\")\n",
            "(53, \"'Thanks tweet ! Rockstar @Ruutu1331 🔥🔥 Fabulous @faf1307 🔥 Sir @imjadeja 🔥🙏🏻 Lord @imShard 🔥 MOst talented MO 🔥 @robbieuthappa thaks-uppa🙏🏻 @DJBravo47 🙏🏻 @deepak_chahar9 🙏🏻 @ImRaina 🙏🏻&amp; The ever cool captain @msdhoni  🔥🦁🙏🏻 This is called team effort 🔥🤝👏🏻 #CSK 💛 https://t.co/E7xtTG0l6t'\")\n",
            "(54, \"'Heartiest congratulations to the whole @ChennaiIPL team &amp; support staff to win their 4th IPL Title under the leadership of one &amp; only @msdhoni 🏆🏆🏆🏆. \\\\n\\\\nOutstanding team effort in the finals to beat @KKRiders 👏🏽👏🏽👏🏽👏🏽. \\\\n\\\\n@faf1307 @Ruutu1331 @robbieuthappa @imShard @imjadeja https://t.co/Fa24hCjfje'\")\n",
            "(55, \"'@MichaelVaughan @imjadeja Your prediction was true ..!!'\")\n",
            "(56, \"'@CpSsinghRJ @imShard @msdhoni @imjadeja @ChennaiIPL Arey mere bhai\")\n",
            "(57, \"'@ChennaiIPL @imjadeja 🔥🔥🔥'\")\n",
            "(58, \"'Congratulations #CSK \\\\n\\\\n#IPL2021 #IPLFinal #CSKvsKKR #WhistlePodu #WhistlePoduArmy #Yellove #ChennaiSuperKings #MSDhoni #Russia #Russell #KKR #ICCT20WorldCup \\\\n\\\\n@ChennaiIPL @KKRiders @msdhoni @ImRaina @imjadeja @sachin_rt @ImZaheer @babarazam258 @DJBravo47 @henrygayle @BCCI @ICC https://t.co/WElNljBwh7'\")\n",
            "(59, \"'Congratulations 👏 @ChennaiIPL  @msdhoni @ImRaina @imjadeja @faf1307 @robbieuthappa @RayuduAmbati @deepak_chahar9 @DJBravo47 @imShard @Ruutu1331 @joshzelwood @moeenali\\\\n4th time winning the trophy 🏆 #CSK \\\\n\\\\nWell trained but no use #KKR \\\\n#ChennaiSuperKings 🏆'\")\n",
            "(60, \"'@MichaelVaughan @ChennaiIPL @imjadeja Seriously? You called @ChennaiIPL a “dated” side and one that needs changing at the start. We all know how you would have celebrated KKR win and called @Eoin16 the best captain ever if they did win. Bad luck Michael 😛 accept it'\")\n",
            "(61, \"'#IPLFinal\\\\nOne of the Most Emotional Moment for Each &amp; Every #CSK Fans.\\\\ncongrats @ChennaiIPL\\\\n@msdhoni\\\\n@Ruutu1331 you are fab 💟\\\\n@imjadeja \\\\n@faf1307 🧡\\\\n#cskvskkr2021\\\\n#IPLFinal https://t.co/K55IfY6xbi'\")\n",
            "(62, \"'🔥 Champion 🔥 Proud to be a CSK fan  #Cskforever #ThalaAjith #Valimai  @DJBravo47 @imjadeja @thisisysr @VigneshShivN @ImRaina @ImranTahirSA @vp_offl @iamharishkalyan @RJ_Balaji @msdhoni The two Thala deliver a powerful message to his fans in their every work 🔥😘#CSK #Yellove https://t.co/Mm9QMz7F7b'\")\n",
            "(63, \"'Congratulations to the whole #SQUAD of @ChennaiIPL  for\\\\nwinning the title for 4th time🔥\\\\nI am really happy that my #favortiecaptain team wins🥂\\\\n@ChennaiIPL squad show the great team work💪\\\\n@msdhoni @ImRaina @imjadeja  once again congratulations to whole Chennai squad\\\\n#iplwinner🏆 https://t.co/oTuvlU8jG9'\")\n",
            "(64, \"It's Fourth time ! Saying it in Jaddu Bhai's style 🥳😘💛 ! \\\\n\\\\nNamma Jeichutommm Maraaaaaa ! \\\\n\\\\n@ChennaiIPL @imjadeja @msdhoni 💛🥳 @CSKFansOfficial @CricSuperFan https://t.co/HIBiZAHCIt\")\n",
            "(65, \"'Champions #ChennaiSuperKings @ChennaiIPL #cskvskkr2021 #MSDhoni @CskIPLTeam #Bravo @imjadeja @ImRaina @faf1307 @BCCI @IPL #IPL2021 #Cskforever #CHAMPIONS https://t.co/v02kdUBhw0'\")\n",
            "(66, \"@MichaelVaughan @ChennaiIPL @imjadeja Nothing came true what Michael Vaughan predicted looks like he has become horse racing expert. Looks like want's permanent job for Indian team seeing money-power.\")\n",
            "(67, \"'#WhistlePodu great win by csk🎉🎉🏆🏆 @msdhoni @imjadeja  #MSDhoni  #CSKvsKKR https://t.co/skPtZKsIcg'\")\n",
            "(68, \"'After the heartbreak of 2019 lost in the last ball  and disaster of 2020 ..this is refreshing @ChennaiIPL #Champions #ChampionSuperKings \")\n",
            "(69, \"'Champions #ChennaiSuperKings @ChennaiIPL #cskvskkr2021 #MSDhoni @CskIPLTeam #Bravo @imjadeja @ImRaina @faf1307 @BCCI @IPL #IPL2021 https://t.co/lLyDoWWnVT'\")\n",
            "(70, \"'Celebrations After CSK won😍😍😂\\\\nEpic Level Celebrations!\\\\n#CSKvsKKR #cskvskkr2021 #mahendrasinghdhoni #IPL2021 #ChampionSuperKings #champion \\\\n@ImRaina @CSKFansOfficial @msdhoni @deepak_chahar9 @imjadeja #ChennaiSuperKings https://t.co/cRoXB2Lzcc'\")\n",
            "(71, \"'That man @imjadeja.. What a catcher?\\\\nYou are great Asset for Indian Team\\\\nCongratulations\\\\n#Jadeja\\\\n#IPLFinal #CSKvsKKR'\")\n",
            "(72, '\\'\"Talent wins games')\n",
            "(73, \"'@SankarganeshLo1 @ChennaiIPL @msdhoni @faf1307 @ImRaina @imjadeja @Ruutu1331 @DJBravo47 😍'\")\n",
            "(74, \"'Meet the Champions of IPL 2021 #COMEBACKSUPERKINGS @cricketaakash @WasimJaffer14 @virendersehwag @ImRaina @imjadeja https://t.co/Omi13leiGZ'\")\n",
            "(75, '\\'Congratulations to the whole #CSK team on winning  4th title 🔥🏆🏆❤️ 2021\\\\n\\\\n\"We will come back strong that\\\\\\'s why we are known for\" - MSD❤️ \\\\n\\\\nHence proven Great comeback and it\\\\\\'s a fabulous season 2021 #WhistlePodu\\\\n@msdhoni @IPL @ChennaiIPL @ImRaina @imjadeja\\\\n#ChennaiSuperKings https://t.co/s6FKlOEJOI\\'')\n",
            "(76, \"'#IPLFinal MS Dhoni @msdhoni #Congratulations \\\\n CSK @ChennaiIPL\\\\n \\\\nhttps://t.co/E3TnnOGIZB \\\\n\\\\n #MSDhoni #MSD #WhistlePodu #WhistlePoduArmy #CSKvsKKR #Yellove #Congratulationscsk  #CSK #LordShardul \\\\n@imShard\\\\n #SirJadeja \\\\n@imjadeja @Ruutu1331 https://t.co/2OkyeQ0tDQ'\")\n",
            "(77, \"'அன்றே கணித்த  @imjadeja\\\\n😁😁\\\\n\\\\n#CSKvKKR\\\\n#CSK\\\\n#IPL2021\\\\n#Dhoni\\\\n#ChennaiSuperKings https://t.co/qVIC6rbQLj'\")\n",
            "(78, \"'SPECIAL TWEET TO #sir @imjadeja \\\\n\\\\nSir u are awesome.u lift up the whenever it’s needed👏🏼👏🏼not only in this season🖐🏽Continue this force with u 👏🏼🥰\\\\n\\\\nU caught our heart by ur catches - u made us relax by taking wickets - u brought wins by ur powerful shots \\\\nThank you @imjadeja https://t.co/1vCMrw35ig'\")\n",
            "(79, \"'@katecross16 @imjadeja @msdhoni @ChennaiIPL The wining moment #csk watch here\\\\nhttps://t.co/Q17OxI3CQp'\")\n",
            "(80, \"'Man we all waited for this comeback 😭💛💥\\\\n#CSKvKKR #Cskforever #CSK #cskvskkr2021 \\\\n@IPL @ChennaiIPL @ImRaina @RayuduAmbati @Ruutu1331 @faf1307 @robbieuthappa @deepak_chahar9 @imjadeja @DJBravo47 @msdhoni \\\\n\\\\nCopyright own by @IPL https://t.co/YjzcoBt1Cv'\")\n",
            "(81, \"'@MichaelVaughan @ChennaiIPL @imjadeja SPOT ON?? What about Aus vs India series?? RESULT WAS NOT 4-0 AUSTRALIA.. 😂 \\\\nअपनी पुरानी ट्वीट्स पढ़ो कभी। बिना गांड़ के लोटे हो आप। कही पर भी मुड जाते हो। ऐसा इंसान देखा कभी? पहले MI बोला फिर SRH। अभी CSK??? 😂'\")\n",
            "(82, \"'@MichaelVaughan @imjadeja Jadega fanboy or wot😀'\")\n",
            "(83, \"Just can't express the felling \\\\n@ChennaiIPL @msdhoni @ImRaina @imShard @Ruutu1331 @faf1307 @imjadeja @robbieuthappa @RayuduAmbati @deepak_chahar9 @SPFleming7\")\n",
            "(84, \"'@MichaelVaughan @ChennaiIPL @imjadeja Vaughan Bhai ap aadmi bilkul suar ho par baate badi sacchi karte ho. 👏'\")\n",
            "(85, \"'I see this win as a fitting farewell to this core group. We may not see them together from next season who knows.\\\\n@msdhoni @ImRaina (2008-21)\\\\n@faf1307 @DJBravo47 (2011-21)\\\\n@imjadeja (2012-21)\\\\nThis group will be remembered forever in Yellow. #Yellove #WhistlePodu #CSK #IPLFinal'\")\n",
            "(86, \"'@joblessvirgin69 @MichaelVaughan @imjadeja 🤣🤣'\")\n",
            "(87, \"'Yeah csk @ChennaiIPL\")\n",
            "(88, \"'@MichaelVaughan @imjadeja Mean while @sanjaymanjrekar 😂😂😂😂 https://t.co/5bKyLOvoy0'\")\n",
            "(89, \"'@MichaelVaughan @imjadeja And dad?'\")\n",
            "(90, \"'#Yellove \\\\nThe Campion of #IPL2021 \\\\nCongratulations #CSK \\\\n#ThalaDhoni \\\\n@imjadeja @ImRaina @IPL @ChennaiIPL https://t.co/eAy0w9Pa4H'\")\n",
            "(91, \"@AlexHartley93 @ChennaiIPL @CSKFansOfficial @katecross16 This man @imjadeja  doesn't give hope when kohli is captain he just plays for csk during Indian matches he doesn't bowl like this,\")\n",
            "(92, \"'Maybe His is voice is enough... Congratulations Chennai Boys 💛💛\\\\n#MSDhoni  #CSK #Yellove #WhistlePodu \\\\n@ChennaiIPL @msdhoni \\\\n#IPL2021 @ImRaina @Ruutu1331 @faf1307 @imjadeja @deepak_chahar9 @imShard @joshhazelwood38\\\\n@DJBravo47 https://t.co/naehQptKfB'\")\n",
            "(93, \"'#IPLFinal  MS Dhoni @msdhoni @Congratulations CSK @ChennaiIPL \\\\n\\\\nhttps://t.co/E3TnnOGIZB \\\\n\\\\n #MSDhoni #MSD #WhistlePodu #WhistlePoduArmy #CSKvsKKR #Yellove #Congratulationscsk  #CSK #LordShardul @imShard #SirJadeja @imjadeja'\")\n",
            "(94, \"'And that most satisfying moment for all @ChennaiIPL fans 🔥👍🏆 @msdhoni @faf1307 @ImRaina @imjadeja @Ruutu1331 @DJBravo47  #Csk #WhistlePodu #ChennaiSuperKings #IPLFinal #congratsCSK https://t.co/FDkzkzWaSc'\")\n",
            "(95, \"'@ChennaiIPL @DJBravo47 @imjadeja The Legend adds another IPL trophy in his cabinet well done Lion King Mahi you have done it again \\\\nMahi said last year we will comeback strong he told the promise was made &amp; the promise is kept @ChennaiIPL #Yellove #WhistlePodu #SuperCham21ons'\")\n",
            "(96, \"'@AnilSinghvi_ @msdhoni @imjadeja @imShard @faf1307 @RuturajGaikward @ChennaiIPL @IPL Anilji kya aapne bhi aesa dance kia match jitne par 🤣💛 https://t.co/R2a5oN4kVR'\")\n",
            "(97, \"'@katecross16 @imjadeja @msdhoni @ChennaiIPL https://t.co/4fp27X5waq'\")\n",
            "(98, \"'@ImRaina @DJBravo47 @faf1307 @ChennaiIPL @imjadeja\\\\n Please Anyone ask MS to make one Tweet 🥺🥺🥺 Please 🙏 #CSK #IPL2021 #IPL2021'\")\n",
            "(99, \"'@mkstalin @ChennaiIPL @msdhoni #CSK #IPL2021 #ThalaDhoni #ChampionSuperKings @ChennaiIPL @msdhoni\\\\xa0 @ImRaina @robbieuthappa @faf1307 @deepak_chahar9 @imShard @DJBravo47 @imjadeja @Ruutu1331 @RayuduAmbati #moeenali #hazelwood'\")\n",
            "(100, \"'Jaddu you beauty 💛 @imjadeja @ChennaiIPL https://t.co/IdVUWmkMZu'\")\n",
            "(101, \"'@MichaelVaughan @imjadeja Michael you have links with 😀😀😀'\")\n",
            "(102, \"#IPLFinal  #IPLFinal  @ChennaiIPL #WhistlePodu #WhistlePoduArmy Comeback's are sweet @ChennaiFan @faf1307 @msdhoni @ImRaina @imjadeja @SaakshiSRawat   #Cskforever\")\n",
            "(103, \"'!!! CHAMPIONS !!!\\\\nCongratulations CSK @ChennaiIPL 🥳🎉🎊 #WhistlePodu #CSK #IPLFinal \\\\nThank you captain @msdhoni \")\n",
            "(104, \"'@katecross16 @imjadeja @msdhoni @ChennaiIPL 5&gt;4'\")\n",
            "(105, \"'And.....the Captain lifts the IPL Trophy for the 4th time....\\\\nWhat a comeback SuperKings!!!!\\\\n@ChennaiIPL \\\\n@msdhoni \\\\n@imjadeja \\\\n@ImRaina \\\\n@faf1307 @imShard https://t.co/9gbs7JoXWN'\")\n",
            "(106, \"'Now\\\\nThen\\\\nForever 💛\\\\nChampion is champion 💛🦁\\\\n@msdhoni @ImRaina @imjadeja @ChennaiIPL\\\\n#CSKvsKKR #ChennaiSuperKings #CSK https://t.co/253J15iRMj'\")\n",
            "(107, \"'@MichaelVaughan @imjadeja 👏👏👏'\")\n",
            "(108, \"'जब तक मैदान में प्रोफेसर साब हैं तब तक सबकुछ हो सकता हैं.....\\\\n@ChenaiIPL @imjadeja @msdhoni\\\\n#CSKvsKKR #CSK #ChennaiSuperKings https://t.co/Pccgj9qtHA'\")\n",
            "(109, \"'🏆IPL 2021 winner csk 🏆\\\\nCongratulations to csk players with all support staffs🔥💪🏏 #ChennaiSuperKings @msdhoni @ChennaiIPL @imjadeja congratulations to all csk supporters♥️🏆'\")\n",
            "(110, \"'#IPLFinal #CSKvsKKR \\\\nCongratulations @ChennaiIPL \\\\n@msdhoni @imjadeja https://t.co/HvTDgyXohc'\")\n",
            "(111, \"'Hey @imjadeja how many titles is that?!\\\\n\\\\nCongratulations @msdhoni and @ChennaiIPL for getting your hands back on that trophy!! 🏆 🤩\\\\n\\\\n#ComebackKings\\\\n#MSDhoni\\\\n#WhistlePodu \\\\n#CSKvsKKR #IPL2021 https://t.co/oDlBgl2KPO'\")\n",
            "(112, \"'@ChennaiIPL @DJBravo47 @imjadeja @this_vid'\")\n",
            "(113, \"Can't wait for the retention rules and regulations from @BCCI and excited to see which players @ChennaiIPL gonna retain and will there be RTM this time becoz of 2 new teams coming in. My retention will be @msdhoni @ImRaina @imjadeja and rtm fof @faf1307 &amp; @Ruutu1331\")\n",
            "(114, \"'@senghani_pratik @AnilSinghvi_ @msdhoni @imjadeja @imShard @faf1307 @RuturajGaikward @ChennaiIPL @IPL @deepdbhandari'\")\n",
            "(115, \"@Ruutu1331 @faf1307 @msdhoni @imjadeja @DJBravo47 @imShard @robbieuthappa @deepak_chahar9 #hazlewood @ImRaina #moenali \\\\n\\\\n@ChennaiIPL #IPL2021 \\\\nThanks for the memories ❤️🍰\\\\n\\\\nNow, #BleedBlue \\\\nC'mon @imVkohli , let's bring the World Cup Home ❤️🏆\")\n",
            "(116, \"'@FCofSirJadeja @imjadeja Deserving'\")\n",
            "(117, \"'@Mitesh79310642 @IPL @ChennaiIPL @msdhoni @DJBravo47 @imjadeja So its better to play only 1 final and win it like RR to keep winning perc as 100 % and disqualify in all other season.  Grand salute to your logic. LOL'\")\n",
            "(118, \"'The Biggest Moment we all have been waiting for!!! @ChennaiIPL @msdhoni @ImRaina @robbieuthappa @Ruutu1331 @faf1307 @MoeenAli @RayuduAmbati @imjadeja @DJBravo47 @deepak_chahar9 @imShard @JoshHazzlewood @ImranTahirSA @NgidiLungi #yellove #WhistlePodu #IPL2021 https://t.co/2Gx6TlBqto'\")\n",
            "(119, \"'@IPL @ChennaiIPL @msdhoni @DJBravo47 @imjadeja The Legend adds another trophy in the cabinet 3 ICC trophies 4 times IPL Champions 2 times CLT20'\")\n",
            "(120, \"'Sir champion @DJBravo47 @imjadeja https://t.co/0Zrej9ZP4W'\")\n",
            "(121, \"'@AnilSinghvi_ @msdhoni @imjadeja @imShard @faf1307 @RuturajGaikward @ChennaiIPL @IPL https://t.co/W0GRCEHHe1'\")\n",
            "(122, \"'#2\\\\nNext appreciation \\\\n#IPL2021Champions #CSK \\\\n@imjadeja @imShard @RayuduAmbati #hazlewood @deepak_chahar9 #MoeenAli \\\\nWhat a players you are \\\\nYou stood up in every game and changed the result in our favour.\\\\nAnd  The one and Only #ThalaDhoni #MSDhoni Never ever write this man off✌️ https://t.co/YtkGKRLxPq'\")\n",
            "(123, \"'@imjadeja bapu T20 ma pn awa bhuka kadho .. jamnagar nu pani pidhu bapu tame .. ghoba upadi levana chhe pakistan na .. all the best'\")\n",
            "(124, \"Thanks @ChennaiIPL @msdhoni @imjadeja @faf1307 for the cup and all other players. Atlast to haters kindly don't underestimate any one. This is for u people. https://t.co/BMOIULyD2k\")\n",
            "(125, \"'Your endeavors to improve your aptitudes have made you a champion! Congrats! You are incredible! Wishing you various all the much more achievement in  this tournament.i m very glad and very very congrats and well played all players .\\\\n@msdhoni \\\\n@imjadeja \\\\n@ChennaiIPL \\\\n@ImRaina https://t.co/ujmis4dbzw'\")\n",
            "(126, \"'Champion super kings 🏆🏆💪\\\\nWinner 2021 #Yellove m.s dhoni(mahi) .@msdhoni @ChennaiIPL @ImRaina @imjadeja @ https://t.co/zO7hMKJ3iw'\")\n",
            "(127, \"'@GyanPra02436125 @Baba08813887 @msdhoni @imjadeja @imShard @imVkohli 😴😅😂 https://t.co/R4qUW6UwTh'\")\n",
            "(128, \"'Congrats CSK for ur great victory!! \\\\nAnd thank you for constantly entertaining us🤩\\\\n@msdhoni @imjadeja @faf1307\\\\n@Ruutu131 \\\\n#CSKvsKKR \\\\n#IPL2021Final\\\\n#WhistlePoduArmy \\\\nCelebration🎊\\\\n#captaincool https://t.co/VFVYcsjNx8'\")\n",
            "(129, \"'@IPL @imjadeja @ChennaiIPL Best captain in world @msdhoni'\")\n",
            "(130, \"'@DaleSteyn62 @faf1307 @ImranTahirSA @NgidiLungi Sass 👌#ipl #CSK #imjadeja #msd'\")\n",
            "(131, \"'@sanjaymanjrekar @imjadeja can you give him the 3D glasses of @RayuduAmbati to have a crystal clear view'\")\n",
            "(132, \"'Got it…!💛#Yellove @ChennaiIPL \\\\n@msdhoni @imjadeja @ImRaina @DJBravo47 @imShard @RayuduAmbati @faf1307 https://t.co/QGlbSvwTeA'\")\n",
            "(133, \"'@kcpraveen84 @RCBTweets @ChennaiIPL @KKRiders @msdhoni @DineshKarthik @faf1307 @imjadeja @SubhmanGill @IPL @BCCI @virendersehwag @ShaneWarne Most of the things are fixed .'\")\n",
            "(134, \"'Jaaa♾️aaadu 💛 your fabulous fantastic and finaminol cricketer and proud of you jaddu bhai 🙏🙏\\\\n\\\\n#SuperCham21ons\\\\n#CSKvKKR #WhistlePodu #Yellove @imjadeja https://t.co/tgne6cfiEs'\")\n",
            "(135, \"'#CSK is the best cricket team in t20. \\\\n My HALL OF FAME for @ChennaiIPL \\\\n@HaydosTweets \\\\n@imjadeja \\\\n@faf1307 \\\\n@ImRaina \\\\n@DJBravo47 \\\\n@mvj888 \\\\n@albiemorkel \\\\n@ShaneRWatson33 \\\\n@mhussey393 \\\\n@ashwinravi99 \\\\n#bollinger\\\\n#muralidharan\\\\nCaptain cool is hiding . \\\\n\\\\n#IPLfinals #IPL #CHAMPIONS https://t.co/AxKzktPgAR'\")\n",
            "(136, \"'@ChennaiIPL No words 4️⃣ th time champions...🔥\\\\n@msdhoni @imjadeja @ImRaina https://t.co/ZaeTeHLSmB'\")\n",
            "(137, \"'@IPL @ChennaiIPL @msdhoni @DJBravo47 @imjadeja One and only Rcb♥️'\")\n",
            "(138, \"'We are the Chennai boys… Making all the noise… Everywhere we Gooo…💛💛\\\\n#WhistlePodu\\\\xa0 #Yellove\\\\xa0 #SuperCham21ons 💛🦁 \\\\n@msdhoni @imjadeja\\\\n@ChennaiIPL @BCCI @cricbuzz @IPL https://t.co/WJWn9Z9Ujl'\")\n",
            "(139, \"'@IPL @ChennaiIPL @msdhoni @DJBravo47 @imjadeja Ipl ka baap RCB 💪♥️♥️'\")\n",
            "(140, \"@katecross16 @imjadeja @msdhoni @ChennaiIPL If hope there is women's ipl, if it so we would love to see u in yellow 💛@katecross\")\n",
            "(141, \"'The Man behind the success. Our wonderful\")\n",
            "(142, \"CSK 💛😁 The Champions of 2021...\\\\nI'm Celebrating with my Buddy 🐶...\\\\n\\\\n#CSKvKKR #ChennaiSuperKings #CHAMPIONS #cskvskkr2021 #MSDhoni #MoeenAli #IPL2021 #IPL2021Final #ThalaDhoni #CSK @ChennaiIPL @ImRaina @msdhoni @imjadeja @BCCI @JayShah @cricketaakash #Yellove #YellowArmy @IPL https://t.co/FunBiwAldn\")\n",
            "(143, \"'4th Time 🏆🏆🏆🏆 @imjadeja\\\\n#IPL2021 #IPL2021Final\\\\n#CSK #Jadeja https://t.co/D0kRipKWSr'\")\n",
            "(144, \"'@ChennaiIPL @imjadeja ◢💙◣            ◢💖◣\\\\n💙💙💙◣ ◢💖💖💖\\\\n◥💙💙💙💖💖💖◤\\\\n    ◥💙💙💖💖◤\\\\n         ◥💙💖◤\\\\n              ◥ ◤'\")\n",
            "(145, \"@AnilSinghvi_ @msdhoni @imjadeja @imShard @faf1307 @RuturajGaikward @ChennaiIPL @IPL Sir you do support and that team doesn't win. That's Impossible\")\n",
            "(146, \"'வாறான்டா தள்ளிக்கோ\\\\nஹே..வேறாண்ட வச்சுக்கோ\\\\nஒத்தக்கால் சாட்ட பம்பரம்\\\\nமாமா சுத்துனா நரம்பு அர்ந்துரும்\\\\nஉன்னப்போல் இல்ல எந்திரம்\\\\nஉன் வெற்றியோ வீர தந்திரம்❤❤❤ @ChennaiIPL @msdhoni @ImRaina\\\\n@imjadeja @robbieuthappa\\\\n@DJBravo47 @saik_99 @Ruutu1331 @faf1307 @Jagadeesan_200 @arya_offl https://t.co/ysvCPk11Yc'\")\n",
            "(147, \"'#CSKvsKKR Final Ipl मैच में Csk की जीत की खुशी पर 🤩 💥 💥😊🤘💪💛\\\\n\\\\nजीतने का मजा तब है जब सब हारने की दुआ करते थे ।\\\\n\\\\n💛😊💪🤘💪🥰😘🤩💪\\\\n#CSKvsKKR \\\\n#CSKWIN \\\\n#IPL2021 \\\\n@CSKFansOfficial @ChennaiIPL @IPL @BCCI @ICC @msdhoni @imjadeja @faf1307 @deepak_chahar9 @imShard @robbieuthappa https://t.co/hS2hIaE6xE'\")\n",
            "(148, \"'Heartiest congratulations to @ChennaiIPL for winning #IPL2021 brilliant leadership of @msdhoni excellent all round performance of @imjadeja kudos @IPL @BCCI @JayShah https://t.co/AVcajbS8kk'\")\n",
            "(149, \"'@cricketaakash sir know everything @imjadeja #csk https://t.co/LUPmiF7Vrn'\")\n"
          ]
        }
      ]
    }
  ]
}